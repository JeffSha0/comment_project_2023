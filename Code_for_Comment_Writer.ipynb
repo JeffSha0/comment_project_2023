{
 "cells": [
  {
   "cell_type": "code",
   "execution_count": 29,
   "metadata": {
    "collapsed": false
   },
   "outputs": [
   ],
   "source": [
    "import csv\n",
    "with open('prompts.csv') as csvfile:\n",
    "    data = csv.reader(csvfile)\n",
    "    header = next(data)\n",
    "    prompts = {}\n",
    "    for row in data:\n",
    "        if row[0] not in prompts.keys():\n",
    "            prompts[row[0]]=row[1]\n",
    "    intro = header[2]\n",
    "\n",
    "grades = {'F':0,'D-':1,'D':2,'D+':3,'C-':4,'C':5,'C+':6,'B-':7,'B':8,'B+':9,'A-':10,'A':11}\n",
    "with open('comments.csv') as csvfile:\n",
    "    data = csv.reader(csvfile)\n",
    "    header = next(data)\n",
    "    for row in data:\n",
    "        fout = open(f'{row[0]}.txt', 'w')\n",
    "        fout.write(intro)\n",
    "        fout.write('\\n\\n')\n",
    "        fout.write(f'{row[0]}, your general strength in this course in this semester is \"{prompts[row[5]]}\", and your room to improve is \"{prompts[row[6]]}\". ')\n",
    "        if int(row[7])>2:\n",
    "            fout.write(f'{row[0]}, I really appreciate how you always engage with the class actively. You always help your classmates to solve problems and you are always open to share your own solutions.')\n",
    "        elif 1<int(row[7])<3:\n",
    "            fout.write(f'{row[0]}, you participate in class solidly. You have very progressive work everyday in class.')\n",
    "        else:\n",
    "            fout.write(f'{row[0]}, you rarely come to class on time, and seem to be never following our learning.')\n",
    "        if int(row[8])>85:\n",
    "            fout.write(f'You work really hard everyday and always turn in very excellent homework. You have achieved an overall grade of {row[8]}% for your afterschool assignments.')\n",
    "        elif 65<int(row[8])<86:\n",
    "            fout.write(f'You work actively after class and always give me your high-quality answers of problem sets. You have achieved an overall grade of {row[8]}% for your afterschool assignments.')\n",
    "        else:\n",
    "            fout.write(f'You have put effort into our daily assignments, but there is still a big room for improvements. You only have an overall grade of {row[8]}% for your afterschool assignments.')\n",
    "        fout.write('\\n\\n')\n",
    "        grades = {'F':0,'D-':1,'D':2,'D+':3,'C-':4,'C':5,'C+':6,'B-':7,'B':8,'B+':9,'A-':10,'A':11}\n",
    "        if int(grades[row[4]])-int(grades[row[2]])>2:\n",
    "            fout.write(f'{row[0]}, you really improved incredibly well in this course this semester. Your grade in Unit 1 was only {row[2]}, and in the end you achieved a great progress and got {row[4]} for the last unit. Thanks for your great effort! ')\n",
    "        elif 1<int(grades[row[4]])-int(grades[row[2]])<3:\n",
    "            fout.write(f'{row[0]}, in this semester, you have shown a really steady and surprising improvement in this class. Your grade in Unit 1 was only {row[2]}, and in the end you achieved a great progress and got {row[4]} for the last unit. You reflected your personal area for growth after each unit accurately, which is a really useful key to enhance your learning.')\n",
    "        elif -1<int(grades[row[4]])-int(grades[row[2]])<2:\n",
    "            fout.write(f'{row[0]}, you did well learning the skills in this class. Your grade in Unit 1 was {row[2]}. Your grade was {row[4]} for the last unit. My suggestion for you is to be free to ask more questions both in class and after class. Even solving small confusions will help you improve your understanding significantly.')\n",
    "        else:\n",
    "            fout.write(f'{row[0]}, your learning did not improve significantly in this semester. Your grade in Unit 1 was {row[2]}, and in the end you only got {row[4]} for the last unit. I think you should pay more time and effort on the classwork afterschool. You should also spend more time reflecting your area for improvements, and meet with either me as the teacher or other classmates to ask questions. ')\n",
    "        if grades[row[1]]>9:\n",
    "            fout.write(f'Your semester grade is {row[1]}. Excellent work! I really enjoyed teaching you!')\n",
    "        elif 7<grades[row[1]]<10:\n",
    "            fout.write(f'Your semester grade is {row[1]}. Very solid work, nice job!')\n",
    "        elif 3<grades[row[1]]<8:\n",
    "            fout.write(f'Your semester grade is {row[1]}. Put more effort on your weaknesses and I believe you can have great improvement!')\n",
    "        elif 0<grades[row[1]]<3:\n",
    "            fout.write(f'Your semester grade is {row[1]}. Please work harder! You can do it!')\n",
    "        else:\n",
    "            fout.write(f\"Your semester grade is {row[1]}. I'm looking forward to teaching you next year and see your improvements!\")\n",
    "        if row[9]:\n",
    "            fout.write('\\n\\n')\n",
    "            for line in row[9:]:\n",
    "                fout.write(line)\n",
    "        fout.close()"
   ]
  },
  {
   "cell_type": "code",
   "execution_count": 0,
   "metadata": {
    "collapsed": false
   },
   "outputs": [
   ],
   "source": [
   ]
  },
  {
   "cell_type": "code",
   "execution_count": 0,
   "metadata": {
    "collapsed": false
   },
   "outputs": [
   ],
   "source": [
   ]
  }
 ],
 "metadata": {
  "kernelspec": {
   "display_name": "Python 3 (Anaconda 2020)",
   "env": {
    "ADDR2LINE": "/ext/anaconda2020.02/bin/x86_64-conda_cos6-linux-gnu-addr2line",
    "ANACONDA2019": "$EXT/anaconda-2019.03",
    "ANACONDA2020": "/ext/anaconda2020.02",
    "ANACONDA3": "$EXT/anaconda3",
    "ANACONDA5": "$EXT/anaconda5",
    "AR": "/ext/anaconda2020.02/bin/x86_64-conda_cos6-linux-gnu-ar",
    "AS": "/ext/anaconda2020.02/bin/x86_64-conda_cos6-linux-gnu-as",
    "CC": "/ext/anaconda2020.02/bin/x86_64-conda_cos6-linux-gnu-cc",
    "CFLAGS": "-march=nocona -mtune=haswell -ftree-vectorize -fPIC -fstack-protector-strong -fno-plt -O2 -ffunction-sections -pipe -isystem /ext/anaconda2020.02/include",
    "CMAKE_PREFIX_PATH": "/ext/anaconda2020.02:/ext/anaconda2020.02/x86_64-conda_cos6-linux-gnu/sysroot/usr",
    "CONDA_BACKUP_HOST": "x86_64-conda_cos6-linux-gnu",
    "CONDA_BUILD_SYSROOT": "/ext/anaconda2020.02/x86_64-conda_cos6-linux-gnu/sysroot",
    "CONDA_DEFAULT_ENV": "base",
    "CONDA_EXE": "/ext/anaconda2020.02/bin/conda",
    "CONDA_MKL_INTERFACE_LAYER_BACKUP": "",
    "CONDA_PREFIX": "/ext/anaconda2020.02",
    "CONDA_PROMPT_MODIFIER": "(base) ",
    "CONDA_PYTHON_EXE": "/ext/anaconda2020.02/bin/python",
    "CONDA_SHLVL": "1",
    "CPP": "/ext/anaconda2020.02/bin/x86_64-conda_cos6-linux-gnu-cpp",
    "CPPFLAGS": "-DNDEBUG -D_FORTIFY_SOURCE=2 -O2 -isystem /ext/anaconda2020.02/include",
    "CXX": "/ext/anaconda2020.02/bin/x86_64-conda_cos6-linux-gnu-c++",
    "CXXFILT": "/ext/anaconda2020.02/bin/x86_64-conda_cos6-linux-gnu-c++filt",
    "CXXFLAGS": "-fvisibility-inlines-hidden -std=c++17 -fmessage-length=0 -march=nocona -mtune=haswell -ftree-vectorize -fPIC -fstack-protector-strong -fno-plt -O2 -ffunction-sections -pipe -isystem /ext/anaconda2020.02/include",
    "DEBUG_CFLAGS": "-march=nocona -mtune=haswell -ftree-vectorize -fPIC -fstack-protector-all -fno-plt -Og -g -Wall -Wextra -fvar-tracking-assignments -ffunction-sections -pipe -isystem /ext/anaconda2020.02/include",
    "DEBUG_CPPFLAGS": "-D_DEBUG -D_FORTIFY_SOURCE=2 -Og -isystem /ext/anaconda2020.02/include",
    "DEBUG_CXXFLAGS": "-fvisibility-inlines-hidden -std=c++17 -fmessage-length=0 -march=nocona -mtune=haswell -ftree-vectorize -fPIC -fstack-protector-all -fno-plt -Og -g -Wall -Wextra -fvar-tracking-assignments -ffunction-sections -pipe -isystem /ext/anaconda2020.02/include",
    "DEBUG_FFLAGS": "-fopenmp -march=nocona -mtune=haswell -ftree-vectorize -fPIC -fstack-protector-strong -fno-plt -O2 -ffunction-sections -pipe -isystem /ext/anaconda2020.02/include -fopenmp -march=nocona -mtune=haswell -ftree-vectorize -fPIC -fstack-protector-all -fno-plt -Og -g -Wall -Wextra -fcheck=all -fbacktrace -fimplicit-none -fvar-tracking-assignments -ffunction-sections -pipe",
    "DEBUG_FORTRANFLAGS": "-fopenmp -march=nocona -mtune=haswell -ftree-vectorize -fPIC -fstack-protector-strong -fno-plt -O2 -ffunction-sections -pipe -isystem /ext/anaconda2020.02/include -fopenmp -march=nocona -mtune=haswell -ftree-vectorize -fPIC -fstack-protector-all -fno-plt -Og -g -Wall -Wextra -fcheck=all -fbacktrace -fimplicit-none -fvar-tracking-assignments -ffunction-sections -pipe",
    "ELFEDIT": "/ext/anaconda2020.02/bin/x86_64-conda_cos6-linux-gnu-elfedit",
    "F77": "/ext/anaconda2020.02/bin/x86_64-conda_cos6-linux-gnu-gfortran",
    "F90": "/ext/anaconda2020.02/bin/x86_64-conda_cos6-linux-gnu-gfortran",
    "F95": "/ext/anaconda2020.02/bin/x86_64-conda_cos6-linux-gnu-f95",
    "FC": "/ext/anaconda2020.02/bin/x86_64-conda_cos6-linux-gnu-gfortran",
    "FFLAGS": "-fopenmp -march=nocona -mtune=haswell -ftree-vectorize -fPIC -fstack-protector-strong -fno-plt -O2 -ffunction-sections -pipe -isystem /ext/anaconda2020.02/include",
    "FORTRANFLAGS": "-fopenmp -march=nocona -mtune=haswell -ftree-vectorize -fPIC -fstack-protector-strong -fno-plt -O2 -ffunction-sections -pipe -isystem /ext/anaconda2020.02/include",
    "GCC": "/ext/anaconda2020.02/bin/x86_64-conda_cos6-linux-gnu-gcc",
    "GCC_AR": "/ext/anaconda2020.02/bin/x86_64-conda_cos6-linux-gnu-gcc-ar",
    "GCC_NM": "/ext/anaconda2020.02/bin/x86_64-conda_cos6-linux-gnu-gcc-nm",
    "GCC_RANLIB": "/ext/anaconda2020.02/bin/x86_64-conda_cos6-linux-gnu-gcc-ranlib",
    "GDAL_DATA": "/ext/anaconda2020.02/share/gdal",
    "GFORTRAN": "/ext/anaconda2020.02/bin/x86_64-conda_cos6-linux-gnu-gfortran",
    "GPROF": "/ext/anaconda2020.02/bin/x86_64-conda_cos6-linux-gnu-gprof",
    "GXX": "/ext/anaconda2020.02/bin/x86_64-conda_cos6-linux-gnu-g++",
    "JAVA_HOME": "/ext/anaconda2020.02",
    "JAVA_HOME_CONDA_BACKUP": "",
    "JAVA_LD_LIBRARY_PATH": "/ext/anaconda2020.02/lib/server",
    "LD": "/ext/anaconda2020.02/bin/x86_64-conda_cos6-linux-gnu-ld",
    "LDFLAGS": "-Wl,-O2 -Wl,--sort-common -Wl,--as-needed -Wl,-z,relro -Wl,-z,now -Wl,--disable-new-dtags -Wl,--gc-sections -Wl,-rpath,/ext/anaconda2020.02/lib -Wl,-rpath-link,/ext/anaconda2020.02/lib -L/ext/anaconda2020.02/lib",
    "LD_GOLD": "/ext/anaconda2020.02/bin/x86_64-conda_cos6-linux-gnu-ld.gold",
    "LD_LIBRARY_PATH": "/ext/anaconda2020.02/lib",
    "MKL_INTERFACE_LAYER": "LP64,GNU",
    "MKL_THREADING_LAYER": "GNU",
    "NM": "/ext/anaconda2020.02/bin/x86_64-conda_cos6-linux-gnu-nm",
    "OBJCOPY": "/ext/anaconda2020.02/bin/x86_64-conda_cos6-linux-gnu-objcopy",
    "OBJDUMP": "/ext/anaconda2020.02/bin/x86_64-conda_cos6-linux-gnu-objdump",
    "OLDPWD": "/ext/anaconda2020.02",
    "PATH": "/ext/anaconda2020.02/bin:/ext/anaconda2020.02/bin:/ext/anaconda2020.02/condabin:/cocalc/bin:/cocalc/src/smc-project/bin:/home/salvus/bin:/home/salvus/.local/bin:/usr/lib/xpra:/ext/bin:/opt/ghc/bin:/usr/local/sbin:/usr/local/bin:/usr/sbin:/usr/bin:/sbin:/bin:/snap/bin:/usr/lib/postgresql/10/bin:/ext/data/homer/bin:/ext/data/weblogo",
    "PROJ_LIB": "/ext/anaconda2020.02/share/proj",
    "RANLIB": "/ext/anaconda2020.02/bin/x86_64-conda_cos6-linux-gnu-ranlib",
    "READELF": "/ext/anaconda2020.02/bin/x86_64-conda_cos6-linux-gnu-readelf",
    "RSTUDIO_WHICH_R": "/ext/anaconda2020.02/bin/R",
    "SIZE": "/ext/anaconda2020.02/bin/x86_64-conda_cos6-linux-gnu-size",
    "STRINGS": "/ext/anaconda2020.02/bin/x86_64-conda_cos6-linux-gnu-strings",
    "STRIP": "/ext/anaconda2020.02/bin/x86_64-conda_cos6-linux-gnu-strip",
    "_CE_CONDA": "",
    "_CE_M": "",
    "_CONDA_PYTHON_SYSCONFIGDATA_NAME": "_sysconfigdata_x86_64_conda_cos6_linux_gnu"
   },
   "language": "python",
   "metadata": {
    "cocalc": {
     "description": "Python/R distribution for data science",
     "priority": 2,
     "url": "https://www.anaconda.com/distribution/"
    }
   },
   "name": "anaconda2020",
   "resource_dir": "/ext/jupyter/kernels/anaconda2020"
  },
  "language_info": {
   "codemirror_mode": {
    "name": "ipython",
    "version": 3
   },
   "file_extension": ".py",
   "mimetype": "text/x-python",
   "name": "python",
   "nbconvert_exporter": "python",
   "pygments_lexer": "ipython3",
   "version": "3.7.8"
  }
 },
 "nbformat": 4,
 "nbformat_minor": 4
}